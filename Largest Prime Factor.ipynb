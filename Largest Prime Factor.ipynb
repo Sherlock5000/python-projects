{
 "cells": [
  {
   "cell_type": "code",
   "execution_count": 2,
   "metadata": {},
   "outputs": [
    {
     "name": "stdout",
     "output_type": "stream",
     "text": [
      "Enter a number: 600851475143\n",
      "[1, 71, 839, 1471, 6857, 59569, 104441, 486847]\n",
      "6857\n",
      "Wall time: 2.49 s\n"
     ]
    }
   ],
   "source": [
    "%%time\n",
    "num = input(\"Enter a number: \")\n",
    "num = int(num)\n",
    "factors = []\n",
    "factor_factors = []\n",
    "prime_factors = []\n",
    "\n",
    "for i in range(1, int(num ** (1/2))):\n",
    "    if num / i == num // i:\n",
    "        factors.append(i)\n",
    "print(factors)\n",
    "\n",
    "for p in factors:\n",
    "    for b in range(1, p + 1):\n",
    "        if p / b == p // b:\n",
    "            factor_factors.append(b)\n",
    "            #print(factor_factors)\n",
    "    if len(factor_factors) == 2:\n",
    "        prime_factors.append(p)\n",
    "    factor_factors.clear()\n",
    "            \n",
    "#print(prime_factors)\n",
    "print(max(prime_factors))"
   ]
  },
  {
   "cell_type": "code",
   "execution_count": null,
   "metadata": {},
   "outputs": [],
   "source": []
  }
 ],
 "metadata": {
  "kernelspec": {
   "display_name": "Python 3",
   "language": "python",
   "name": "python3"
  },
  "language_info": {
   "codemirror_mode": {
    "name": "ipython",
    "version": 3
   },
   "file_extension": ".py",
   "mimetype": "text/x-python",
   "name": "python",
   "nbconvert_exporter": "python",
   "pygments_lexer": "ipython3",
   "version": "3.7.0"
  }
 },
 "nbformat": 4,
 "nbformat_minor": 2
}
